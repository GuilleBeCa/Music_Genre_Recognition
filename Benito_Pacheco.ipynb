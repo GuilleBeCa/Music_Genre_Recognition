{
 "cells": [
  {
   "cell_type": "code",
   "execution_count": 1,
   "id": "cf5c09ff-9a1a-484e-b17a-40a4a2c78af1",
   "metadata": {},
   "outputs": [],
   "source": [
    "%matplotlib inline\n",
    "\n",
    "import os\n",
    "\n",
    "import IPython.display as ipd\n",
    "import numpy as np\n",
    "import pandas as pd\n",
    "import matplotlib.pyplot as plt\n",
    "import librosa\n",
    "from sklearn.preprocessing import LabelBinarizer\n",
    "import torch\n",
    "from torch.utils.data import Dataset, DataLoader\n",
    "from torch import nn\n",
    "from torch.optim import SGD, Adam, Adadelta\n",
    "from torch.nn import CrossEntropyLoss\n",
    "from tqdm import tqdm\n",
    "\n",
    "import utils  ## .py"
   ]
  },
  {
   "cell_type": "markdown",
   "id": "27f22add-bef1-484a-9315-1575b56ce703",
   "metadata": {},
   "source": [
    "### Load meta data"
   ]
  },
  {
   "cell_type": "code",
   "execution_count": 2,
   "id": "06fd8af6-fd88-4a09-8f1c-fb591baabff3",
   "metadata": {},
   "outputs": [
    {
     "data": {
      "text/plain": [
       "((106574, 52), (163, 4), (106574, 518), (13129, 249))"
      ]
     },
     "execution_count": 2,
     "metadata": {},
     "output_type": "execute_result"
    }
   ],
   "source": [
    "# Directory where mp3 are stored.  ### in terminal write: export AUDIO_DIR=./'directory where the mp3 are stored'\n",
    "AUDIO_DIR=os.environ.get('AUDIO_DIR')\n",
    "\n",
    "# Load metadata and features.\n",
    "tracks_ = utils.load('fma/data/fma_metadata/tracks.csv')\n",
    "genres = utils.load('fma/data/fma_metadata/genres.csv')\n",
    "features = utils.load('fma/data/fma_metadata/features.csv')\n",
    "echonest = utils.load('fma/data/fma_metadata/echonest.csv')\n",
    "\n",
    "np.testing.assert_array_equal(features.index, tracks_.index)\n",
    "assert echonest.index.isin(tracks_.index).all()\n",
    "\n",
    "tracks_.shape, genres.shape, features.shape, echonest.shape"
   ]
  },
  {
   "cell_type": "markdown",
   "id": "a63ee858-041c-4bc9-8e27-e46e5c397cdc",
   "metadata": {},
   "source": [
    "### Parameters\n"
   ]
  },
  {
   "cell_type": "code",
   "execution_count": 3,
   "id": "efa75045-fbea-4ca3-b1c0-b97a29d9ed85",
   "metadata": {},
   "outputs": [
    {
     "name": "stdout",
     "output_type": "stream",
     "text": [
      "cuda\n"
     ]
    }
   ],
   "source": [
    "## Possible trainings\n",
    "model_dim = 'both' ## '1d' or '2d' 'both'\n",
    "Division = True ## if data gets diveded in small pieces\n",
    "Drop_out = False\n",
    "\n",
    "N = 7994 ## number of data samples we will work with (max = 7994)\n",
    "batch_size = 50\n",
    "epochs = 15\n",
    "lr = 5e-4\n",
    "\n",
    "model_saving_name = 'model.pt'\n",
    "\n",
    "device = \"cuda\" if torch.cuda.is_available() else \"cpu\"\n",
    "#device = 'cpu'\n",
    "print(device)"
   ]
  },
  {
   "cell_type": "code",
   "execution_count": 4,
   "id": "5d1330bd-6278-492b-80f0-e8c63dc13049",
   "metadata": {},
   "outputs": [
    {
     "name": "stdout",
     "output_type": "stream",
     "text": [
      "Shape of data 1D: (1,142857)\n",
      "Sape of data 2D: (1025, 139)\n"
     ]
    }
   ],
   "source": [
    "max_len = 1_000_000  ## max = 1_321_438\n",
    "n_fft = 2048  ## for the STFT fourier transform\n",
    "n_rows = int(np.round((n_fft+1.1)/2))\n",
    "hop_length = n_fft//2  ## n_fft/a  1/a = overlap\n",
    "n_columns = int(np.ceil(max_len/hop_length))\n",
    "if Division == True:\n",
    "    num_divisions = 7\n",
    "    stride_calc = 919 \n",
    " #int(max_len/(N+19))-200\n",
    "\n",
    "elif Division == False:\n",
    "    num_divisions = 1\n",
    "    stride_calc = 1007\n",
    "\n",
    "if Drop_out == True:\n",
    "    drop_out = 0.2\n",
    "elif Drop_out == False:\n",
    "    drop_out = 0\n",
    "\n",
    "\n",
    "n_columns_division = int(n_columns/num_divisions)\n",
    "n_data_division = int(max_len/num_divisions)\n",
    "\n",
    "print(f'Shape of data 1D: (1,{n_data_division})')\n",
    "print(f'Sape of data 2D: {n_rows,n_columns_division}')"
   ]
  },
  {
   "cell_type": "markdown",
   "id": "2b0186bc-87aa-49de-ad60-886d137568f0",
   "metadata": {
    "jp-MarkdownHeadingCollapsed": true
   },
   "source": [
    "### Data \"preprocessing\"\n"
   ]
  },
  {
   "cell_type": "code",
   "execution_count": 5,
   "id": "655a23d6-03cf-4ee2-89e7-5cf194bc1c50",
   "metadata": {},
   "outputs": [],
   "source": [
    "## SUBSETING , we are only going to work with the small data_set and oly with N samples.\n",
    "\n",
    "subset = tracks_.index[tracks_['set', 'subset'] <= 'small'].drop([98565,98567,98569,99134,108925,133297])\n",
    "tracks = tracks_.loc[subset].iloc[:N]\n",
    "\n",
    "## taking the different indexes for train, validation and testing\n",
    "train = tracks.index[tracks['set', 'split'] == 'training'].values\n",
    "val = tracks.index[tracks['set', 'split'] == 'validation'].values\n",
    "test = tracks.index[tracks['set', 'split'] == 'test'].values"
   ]
  },
  {
   "cell_type": "code",
   "execution_count": 6,
   "id": "76813b10-e927-4bd9-b284-aad7364e145d",
   "metadata": {},
   "outputs": [],
   "source": [
    "# getting the \"Y\" vectors (classification of the data) as onehot encoded\n",
    "labels_onehot = LabelBinarizer().fit_transform(tracks['track', 'genre_top'])\n",
    "labels_onehot = pd.DataFrame(labels_onehot, index=tracks.index)\n",
    "number_genre = labels_onehot.shape[1]\n"
   ]
  },
  {
   "cell_type": "markdown",
   "id": "daa67ca4-2008-47b1-ad1d-f4e7cd04ad3d",
   "metadata": {
    "jp-MarkdownHeadingCollapsed": true
   },
   "source": [
    "### Datasets"
   ]
  },
  {
   "cell_type": "code",
   "execution_count": 7,
   "id": "55a06786-6321-4326-a1c4-d363314d72d3",
   "metadata": {},
   "outputs": [],
   "source": [
    "class STFTLoader(utils.Loader):\n",
    "    raw_loader = utils.LibrosaLoader()\n",
    "\n",
    "    def load(self, filename):\n",
    "        import librosa\n",
    "        x = self.raw_loader.load(filename)\n",
    "        x_short = x[:max_len] ## getting only up to a certain length of the data sample (to have the same length for all data)\n",
    "        \n",
    "        stft = np.abs(librosa.stft(x_short, n_fft=n_fft, hop_length=hop_length))  ## n_fft is the size of the FFT,, hop_length is frame increment between \n",
    "        ## two consecutive FFT\n",
    "        return stft ,x# return a matrix (q,p) where p is the number of columns of the matrix (important afterwards)"
   ]
  },
  {
   "cell_type": "code",
   "execution_count": 8,
   "id": "7dea1e12-2a6e-45a4-af92-55f5a06f2e5d",
   "metadata": {},
   "outputs": [
    {
     "data": {
      "text/plain": [
       "(1321967,)"
      ]
     },
     "execution_count": 8,
     "metadata": {},
     "output_type": "execute_result"
    }
   ],
   "source": [
    "loader_1d = utils.LibrosaLoader(sampling_rate=44100) ## 1d loader for raw audio\n",
    "loader_2d = STFTLoader()  # 2d loader for stft matrix\n",
    "loader_2d.load('fma/data/fma_small/000/000002.mp3')[1].shape  ##example for 2D data shape\n"
   ]
  },
  {
   "cell_type": "code",
   "execution_count": 9,
   "id": "082377eb-8c34-45ae-b767-9061bd82d921",
   "metadata": {},
   "outputs": [],
   "source": [
    "class Dataset_1d(torch.utils.data.Dataset):\n",
    "    'Characterizes a dataset for PyTorch'\n",
    "    def __init__(self, tids, onehot): ## tids = train, val or test. Are the indixes\n",
    "        'Initialization'\n",
    "        self.labels = onehot\n",
    "        self.tids = tids\n",
    "        self.loader = loader_1d\n",
    "        self.audio_path = utils.get_audio_path\n",
    "        self.audio_dir = AUDIO_DIR\n",
    "    def __len__(self):\n",
    "        'Denotes the total number of samples'\n",
    "        return len(self.tids)\n",
    "\n",
    "    def __getitem__(self, index):\n",
    "        'Generates one sample of data'\n",
    "        # Select sample\n",
    "        y = self.labels.loc[self.tids[index]]\n",
    "        audio_name = self.audio_path(self.audio_dir, self.tids[index])\n",
    "        x = self.loader.load(audio_name)[:max_len]\n",
    "        \n",
    "        X_ = torch.from_numpy(np.array(x,dtype='float32'))\n",
    "        X = X_.reshape( *X_.shape,1)\n",
    "        Y = torch.from_numpy(np.array(y,dtype='float32'))\n",
    "\n",
    "        return X, Y"
   ]
  },
  {
   "cell_type": "code",
   "execution_count": 10,
   "id": "8f9fa39a-091f-4cf5-8465-6f8c570b182b",
   "metadata": {},
   "outputs": [],
   "source": [
    "class Dataset_2d(torch.utils.data.Dataset):\n",
    "    'Characterizes a dataset for PyTorch'\n",
    "    def __init__(self, tids, onehot): ## tids = train, val or test. Are the indixes\n",
    "        'Initialization'\n",
    "        self.labels = onehot\n",
    "        self.tids = tids\n",
    "        self.loader = loader_2d\n",
    "        self.audio_path = utils.get_audio_path\n",
    "        self.audio_dir = AUDIO_DIR\n",
    "    def __len__(self):\n",
    "        'Denotes the total number of samples'\n",
    "        return len(self.tids)\n",
    "\n",
    "    def __getitem__(self, index):\n",
    "        'Generates one sample of data'\n",
    "        # Select sample\n",
    "        y = self.labels.loc[self.tids[index]]\n",
    "        audio_name = self.audio_path(self.audio_dir, self.tids[index])\n",
    "        x = self.loader.load(audio_name)[0]\n",
    "        \n",
    "        X = torch.from_numpy(np.array(x,dtype='float32')).permute(1,0)\n",
    "        Y = torch.from_numpy(np.array(y,dtype='float32'))\n",
    "\n",
    "        return X, Y"
   ]
  },
  {
   "cell_type": "code",
   "execution_count": 11,
   "id": "8757342a-1264-4b9e-afbc-add974ebd385",
   "metadata": {},
   "outputs": [],
   "source": [
    "class Dataset_both(torch.utils.data.Dataset):\n",
    "    'Characterizes a dataset for PyTorch'\n",
    "    def __init__(self, tids, onehot): ## tids = train, val or test. Are the indixes\n",
    "        'Initialization'\n",
    "        self.labels = onehot\n",
    "        self.tids = tids\n",
    "        self.loader = loader_2d\n",
    "        self.audio_path = utils.get_audio_path\n",
    "        self.audio_dir = AUDIO_DIR\n",
    "    def __len__(self):\n",
    "        'Denotes the total number of samples'\n",
    "        return len(self.tids)\n",
    "\n",
    "    def __getitem__(self, index):\n",
    "        'Generates one sample of data'\n",
    "        # Select sample\n",
    "        y = self.labels.loc[self.tids[index]]\n",
    "        audio_name = self.audio_path(self.audio_dir, self.tids[index])\n",
    "        x_2, x_1  = self.loader.load(audio_name)\n",
    "        \n",
    "        X_1_ = torch.from_numpy(np.array(x_1,dtype='float32'))\n",
    "        X_2 = torch.from_numpy(np.array(x_2,dtype='float32')).permute(1,0)\n",
    "        X_1 = X_1_.reshape(*X_1_.shape ,1)[:max_len]\n",
    "        \n",
    "        Y = torch.from_numpy(np.array(y,dtype='float32'))\n",
    "\n",
    "        return X_1, X_2, Y"
   ]
  },
  {
   "cell_type": "markdown",
   "id": "a504255c-8f88-46f5-944b-fbd7d70e137e",
   "metadata": {
    "jp-MarkdownHeadingCollapsed": true
   },
   "source": [
    "### Networks"
   ]
  },
  {
   "cell_type": "markdown",
   "id": "18d71359-da58-45ab-8a44-50df089556dd",
   "metadata": {},
   "source": [
    "#### 1d"
   ]
  },
  {
   "cell_type": "code",
   "execution_count": 12,
   "id": "ca5ce2d2-410d-44a2-ae09-6d42829a3a5d",
   "metadata": {},
   "outputs": [],
   "source": [
    "class Network1d(nn.Module):\n",
    "    \n",
    "    def __init__(self, batch_size, n_columns, kernel_size): ## kernell size has to be [a, n_rows] \n",
    "        super().__init__()\n",
    "        self.conv_path_1 = nn.Sequential(\n",
    "            nn.Conv2d(in_channels=1,out_channels=256, kernel_size = [stride_calc*20, 1], stride = [stride_calc, 1], padding=[0, 0]), \n",
    "            nn.BatchNorm2d(256),\n",
    "            nn.ELU(),\n",
    "            nn.Dropout(drop_out)\n",
    "        )\n",
    "        self.conv_path_2 = nn.Sequential(\n",
    "            nn.Conv2d(in_channels=256, out_channels=256, kernel_size=[4,1],padding=[2,0]), ##padding so it matches de dimension of conv_path 1\n",
    "            nn.BatchNorm2d(256),\n",
    "            nn.ELU(),\n",
    "            nn.Dropout(drop_out),\n",
    "            nn.Conv2d(in_channels=256, out_channels=256, kernel_size=[4,1],padding=[1,0]), ##padding so it matches de dimension of conv_path 1\n",
    "            nn.BatchNorm2d(256),\n",
    "            nn.ELU(),\n",
    "            nn.Dropout(drop_out)\n",
    "        )\n",
    "        self.flatten = nn.Flatten(start_dim=1)\n",
    "\n",
    "        self.maxpool = nn.MaxPool2d(kernel_size=[n_columns-kernel_size[0]+1,1]) ## -(kernel_size[0]-1) since is the dim of conv path 1\n",
    "        self.avgpool = nn.AvgPool2d(kernel_size=[n_columns-kernel_size[0]+1,1])\n",
    "        \n",
    "        self.linear_path = nn.Sequential(\n",
    "            nn.Linear(in_features=256*2, out_features=300), ## in is n_fft*2 (2 different poolings)\n",
    "            nn.BatchNorm1d(300),\n",
    "            nn.ELU(),\n",
    "            nn.Dropout(drop_out),\n",
    "            nn.Linear(in_features=300, out_features=150),\n",
    "            nn.BatchNorm1d(150),\n",
    "            nn.ELU(),\n",
    "            nn.Dropout(drop_out),\n",
    "            nn.Linear(in_features=150, out_features=number_genre), ## out number of genres\n",
    "            nn.BatchNorm1d(number_genre),\n",
    "            nn.ELU()\n",
    "        )\n",
    "               \n",
    "        self.apply(self._init_weights)\n",
    "\n",
    "    def _init_weights(self, module):\n",
    "        if isinstance(module, torch.nn.Linear):\n",
    "            torch.nn.init.xavier_uniform_(module.weight)\n",
    "            if module.bias is not None:\n",
    "                module.bias.data.zero_()\n",
    "        if isinstance(module, torch.nn.Conv2d):\n",
    "            torch.nn.init.xavier_uniform_(module.weight)\n",
    "            if module.bias is not None:\n",
    "                module.bias.data.zero_()\n",
    "\n",
    "    def forward(self, x):\n",
    "        \n",
    "        x1_1 = self.conv_path_1(x)\n",
    "        x1_2 = self.conv_path_2(x1_1)\n",
    "        x2 = x1_1 + x1_2\n",
    "        x3 = torch.cat((self.maxpool(x2),self.avgpool(x2)),2)\n",
    "        x4 = self.linear_path(self.flatten(x3))\n",
    "\n",
    "        \n",
    "        return x4\n",
    "\n"
   ]
  },
  {
   "cell_type": "markdown",
   "id": "02d6e22b-e2c2-4944-95a7-884d154decbc",
   "metadata": {},
   "source": [
    "#### 2d"
   ]
  },
  {
   "cell_type": "code",
   "execution_count": 13,
   "id": "7f1fd461-a46d-4f66-aa52-2ec1b3578f60",
   "metadata": {},
   "outputs": [],
   "source": [
    "class Network2d(nn.Module):\n",
    "    \n",
    "    def __init__(self, batch_size, n_columns, kernel_size): ## kernell size has to be [a, n_rows] \n",
    "        super().__init__()\n",
    "        self.conv_path_1 = nn.Sequential(\n",
    "            nn.Conv2d(in_channels=1,out_channels=256, kernel_size=kernel_size,padding=[0,0]), ## does a convolution over the width so yileds a 1d vector\n",
    "            nn.BatchNorm2d(256),\n",
    "            nn.ELU(),\n",
    "            nn.Dropout(drop_out)\n",
    "        )\n",
    "        self.conv_path_2 = nn.Sequential(\n",
    "            nn.Conv2d(in_channels=256, out_channels=256, kernel_size=[4,1],padding=[2,0]), ##padding so it matches de dimension of conv_path 1\n",
    "            nn.BatchNorm2d(256),\n",
    "            nn.ELU(),\n",
    "            nn.Dropout(drop_out),\n",
    "            nn.Conv2d(in_channels=256, out_channels=256, kernel_size=[4,1],padding=[1,0]), ##padding so it matches de dimension of conv_path 1\n",
    "            nn.BatchNorm2d(256),\n",
    "            nn.ELU(),\n",
    "            nn.Dropout(drop_out)\n",
    "        )\n",
    "        self.flatten = nn.Flatten(start_dim=1)\n",
    "\n",
    "        self.maxpool = nn.MaxPool2d(kernel_size=[n_columns-kernel_size[0]+1,1]) ## -(kernel_size[0]-1) since is the dim of conv path 1\n",
    "        self.avgpool = nn.AvgPool2d(kernel_size=[n_columns-kernel_size[0]+1,1])\n",
    "        \n",
    "        self.linear_path = nn.Sequential(\n",
    "            nn.Linear(in_features=256*2, out_features=300), ## in is n_fft*2 (2 different poolings)\n",
    "            nn.BatchNorm1d(300),\n",
    "            nn.ELU(),\n",
    "            nn.Dropout(drop_out),\n",
    "            nn.Linear(in_features=300, out_features=150),\n",
    "            nn.BatchNorm1d(150),\n",
    "            nn.ELU(),\n",
    "            nn.Linear(in_features=150, out_features=number_genre), ## out number of genres\n",
    "            nn.BatchNorm1d(number_genre),\n",
    "            nn.ELU()\n",
    "        )\n",
    "               \n",
    "        self.apply(self._init_weights)\n",
    "\n",
    "    def _init_weights(self, module):\n",
    "        if isinstance(module, torch.nn.Linear):\n",
    "            torch.nn.init.xavier_uniform_(module.weight)\n",
    "            if module.bias is not None:\n",
    "                module.bias.data.zero_()\n",
    "        if isinstance(module, torch.nn.Conv2d):\n",
    "            torch.nn.init.xavier_uniform_(module.weight)\n",
    "            if module.bias is not None:\n",
    "                module.bias.data.zero_()\n",
    "\n",
    "    def forward(self, x):\n",
    "        \n",
    "        x1_1 = self.conv_path_1(x)\n",
    "        x1_2 = self.conv_path_2(x1_1)\n",
    "        x2 = x1_1 + x1_2\n",
    "        x3 = torch.cat((self.maxpool(x2),self.avgpool(x2)),2)\n",
    "        x4 = self.linear_path(self.flatten(x3))\n",
    "\n",
    "        \n",
    "        return x4\n",
    "\n"
   ]
  },
  {
   "cell_type": "markdown",
   "id": "3f606174-38b9-45de-8247-8726bfc419aa",
   "metadata": {},
   "source": [
    "#### Both"
   ]
  },
  {
   "cell_type": "code",
   "execution_count": 14,
   "id": "d4db5d39-655b-42c4-a185-c42582e709ae",
   "metadata": {},
   "outputs": [],
   "source": [
    "class NetworkBoth(nn.Module):\n",
    "    \n",
    "    def __init__(self, batch_size, n_columns, kernel_size): ## kernell size has to be [a, n_rows] \n",
    "        super().__init__()\n",
    "        self.conv_path_1_2d = nn.Sequential(\n",
    "            nn.Conv2d(in_channels=1,out_channels=128, kernel_size=kernel_size,padding=[0,0]), ## does a convolution over the width so yileds a 1d vector\n",
    "            nn.BatchNorm2d(128),\n",
    "            nn.ELU(),\n",
    "            nn.Dropout(drop_out)\n",
    "        )\n",
    "        self.conv_path_1_1d = nn.Sequential(\n",
    "            nn.Conv2d(in_channels=1,out_channels=128, kernel_size = [stride_calc*20, 1], stride = [stride_calc, 1], padding=[0, 0]), ## convolution over the 1d input to match sizes\n",
    "            nn.BatchNorm2d(128),\n",
    "            nn.ELU(),\n",
    "            nn.Dropout(drop_out)\n",
    "        )\n",
    "        self.conv_path_2 = nn.Sequential(\n",
    "            nn.Conv2d(in_channels=256, out_channels=256, kernel_size=[4,1],padding=[2,0]), ##padding so it matches de dimension of conv_path 1\n",
    "            nn.BatchNorm2d(256),\n",
    "            nn.ELU(),\n",
    "            nn.Dropout(drop_out),\n",
    "            nn.Conv2d(in_channels=256, out_channels=256, kernel_size=[4,1],padding=[1,0]), ##padding so it matches de dimension of conv_path 1\n",
    "            nn.BatchNorm2d(256),\n",
    "            nn.ELU(),\n",
    "            nn.Dropout(drop_out)\n",
    "        )\n",
    "        self.flatten = nn.Flatten(start_dim=1)\n",
    "\n",
    "        self.maxpool = nn.MaxPool2d(kernel_size=[n_columns-kernel_size[0]+1,1]) ## -(kernel_size[0]-1) since is the dim of conv path 1\n",
    "        self.avgpool = nn.AvgPool2d(kernel_size=[n_columns-kernel_size[0]+1,1])\n",
    "        \n",
    "        self.linear_path = nn.Sequential(\n",
    "            nn.Linear(in_features=256*2, out_features=300), ## in is n_fft*2 (2 different poolings)\n",
    "            nn.BatchNorm1d(300),\n",
    "            nn.ELU(),\n",
    "            nn.Dropout(drop_out),\n",
    "            nn.Linear(in_features=300, out_features=150),\n",
    "            nn.BatchNorm1d(150),\n",
    "            nn.ELU(),\n",
    "            nn.Dropout(drop_out),\n",
    "            nn.Linear(in_features=150, out_features=number_genre), ## out number of genres\n",
    "            nn.BatchNorm1d(number_genre),\n",
    "            nn.ELU()\n",
    "        )\n",
    "               \n",
    "        self.apply(self._init_weights)\n",
    "\n",
    "    def _init_weights(self, module):\n",
    "        if isinstance(module, torch.nn.Linear):\n",
    "            torch.nn.init.xavier_uniform_(module.weight)\n",
    "            if module.bias is not None:\n",
    "                module.bias.data.zero_()\n",
    "        if isinstance(module, torch.nn.Conv2d):\n",
    "            torch.nn.init.xavier_uniform_(module.weight)\n",
    "            if module.bias is not None:\n",
    "                module.bias.data.zero_()\n",
    "\n",
    "    def forward(self, x_1d, x_2d):\n",
    "        \n",
    "        x1_1d = self.conv_path_1_1d(x_1d)\n",
    "        x1_2d = self.conv_path_1_2d(x_2d)\n",
    "        x1_together = torch.cat((x1_1d, x1_2d), 1)\n",
    "        \n",
    "        x2 = self.conv_path_2(x1_together)\n",
    "        x3 = x1_together + x2\n",
    "        x4 = torch.cat((self.maxpool(x3),self.avgpool(x3)),2)\n",
    "        x5 = self.linear_path(self.flatten(x4))\n",
    "        \n",
    "        return x5\n",
    "\n"
   ]
  },
  {
   "cell_type": "markdown",
   "id": "e1e730c8-02b1-48ed-89f0-1680b090f35e",
   "metadata": {},
   "source": [
    "### Training"
   ]
  },
  {
   "cell_type": "markdown",
   "id": "0e068a43-df4e-4df4-9893-350aea2d4541",
   "metadata": {
    "jp-MarkdownHeadingCollapsed": true
   },
   "source": [
    "#### 1d"
   ]
  },
  {
   "cell_type": "code",
   "execution_count": 15,
   "id": "c178ac57-d4d5-486e-9289-b5cd37e4a197",
   "metadata": {},
   "outputs": [],
   "source": [
    "### Training for model 1d\n",
    "\n",
    "if model_dim == '1d':\n",
    "    model = Network1d(batch_size, n_columns=n_columns_division, kernel_size=[4,n_rows])\n",
    "                                                                                \n",
    "    train_data = Dataset_1d(train, labels_onehot)\n",
    "    valid_data = Dataset_1d(val, labels_onehot)\n",
    "    \n",
    "    train_loader = torch.utils.data.DataLoader(train_data,batch_size=batch_size)\n",
    "    valid_loader = torch.utils.data.DataLoader(valid_data,batch_size=batch_size)\n",
    "\n",
    "    opt = Adam(model.parameters(), lr = lr)\n",
    "    loss_fn = CrossEntropyLoss()\n",
    "    \n",
    "    \n",
    "    \n",
    "    model.to(device)\n",
    "    \n",
    "    best_val = np.inf\n",
    "    \n",
    "    loss_train = np.array([])\n",
    "    loss_train_epoch = []\n",
    "    loss_val_epoch = []\n",
    "    \n",
    "    for epoch in range(epochs):\n",
    "        loss_avg = 0\n",
    "        loss_avg_val = 0\n",
    "        n_loss = 0\n",
    "        n_loss_val = 0\n",
    "        \n",
    "        model.train()\n",
    "        print(f\"Epoch: {epoch+1}\")\n",
    "        iterator = tqdm(train_loader)\n",
    "        for batch_x, batch_y in (iterator):\n",
    "            \n",
    "            batch_x = batch_x.to(device)\n",
    "            batch_y = batch_y.to(device)\n",
    "    \n",
    "            batch_x = batch_x.reshape(1, *batch_x.shape).permute(1,0,2,3)\n",
    "            \n",
    "            y_pred = 0\n",
    "            for j in range(max([num_divisions*2-3,1])):\n",
    "                batch_x_j = batch_x[:,:,int(n_data_division*j/2):int(n_data_division*(j+2)/2),:]  ## 50% of overlap between pieces of data\n",
    "                \n",
    "                y_pred_j = model(batch_x_j) \n",
    "                loss = loss_fn(y_pred_j,batch_y) ## the loss is computed and the gradient is computed inside the for loop, for each segment\n",
    "                n_loss = n_loss+1\n",
    "\n",
    "                loss_avg = loss_avg + loss.detach().cpu().numpy()\n",
    "                \n",
    "                opt.zero_grad()\n",
    "                loss.backward()\n",
    "                opt.step()\n",
    "                iterator.set_description(f\"Train loss: {loss.detach().cpu().numpy()}\")\n",
    "    \n",
    "            \n",
    "\n",
    "        model.eval()\n",
    "        with torch.no_grad():\n",
    "\n",
    "            predictions = []\n",
    "            true = []\n",
    "            for batch_x, batch_y in tqdm(valid_loader):\n",
    "                batch_x = batch_x.to(device)\n",
    "                batch_y = batch_y.to(device)\n",
    "    \n",
    "                batch_x = batch_x.reshape(1, *batch_x.shape).permute(1,0,2,3)\n",
    "                \n",
    "    \n",
    "                y_pred = 0\n",
    "                for j in range(max([num_divisions*2-3,1])):\n",
    "                    \n",
    "                    batch_x_j = batch_x[:,:,int(n_data_division*j/2):int(n_data_division*(j+2)/2),:]  ## 50% of overlap between pieces of data\n",
    "                    \n",
    "                    y_pred_j = model(batch_x_j)\n",
    "                    \n",
    "                    loss_avg_val = loss_avg_val + loss_fn(y_pred_j, batch_y).detach().cpu().numpy() ## this loss (inside) is to compare with training loss, is computed for each segment\n",
    "                    n_loss_val = n_loss_val + 1\n",
    "                    \n",
    "                    y_pred = y_pred + y_pred_j/max([num_divisions*2-3,1])\n",
    "                \n",
    "                predictions.append(y_pred) \n",
    "                true.append(batch_y)\n",
    "            predictions = torch.cat(predictions, axis=0)\n",
    "            true = torch.cat(true, axis=0)   ## the loss is computed OUTSIDE the for loop, once the predictions for the whole song is computed\n",
    "                                            ## this is the loss that we use to decide to save the model or not.\n",
    "            val_loss = loss_fn(predictions, true)\n",
    "    \n",
    "            index = torch.argmax(predictions,axis=1).detach().cpu().numpy()\n",
    "            zeros = np.zeros(predictions.shape)\n",
    "            zeros[np.arange(index.shape[0]), index]=1\n",
    "            \n",
    "            val_acc = np.sum(np.equal(np.sum(np.equal(zeros,true.detach().cpu().numpy()).astype(int),axis=1),number_genre).astype(int))/predictions.shape[0]\n",
    "                \n",
    "            print(f\"loss: {val_loss}, accuracy: {val_acc}\")\n",
    "        loss_val_epoch.append(loss_avg_val/n_loss_val)\n",
    "        loss_train_epoch.append(loss_avg/n_loss)\n",
    "        \n",
    "        if val_loss < best_val:\n",
    "            print(\"Saved Model\")\n",
    "            torch.save(model.state_dict(), model_saving_name)\n",
    "            best_val = val_loss\n",
    "    \n",
    "    plt.plot(np.arange(1,epoch+2),loss_train_epoch,label='Training Loss')\n",
    "    plt.plot(np.arange(1,epoch+2),loss_val_epoch,label='Validation Loss (\"segment-wise\")')\n",
    "    plt.legend()\n",
    "\n",
    "else:\n",
    "    None"
   ]
  },
  {
   "cell_type": "markdown",
   "id": "28884fad-0656-4d15-9675-abbd0d8d9e33",
   "metadata": {},
   "source": [
    "#### 2d"
   ]
  },
  {
   "cell_type": "code",
   "execution_count": 16,
   "id": "497a93e8-03ac-4b85-84e3-366770e705db",
   "metadata": {},
   "outputs": [],
   "source": [
    "### Training for model 2d\n",
    "\n",
    "if model_dim == '2d':\n",
    "    model = Network2d(batch_size, n_columns=n_columns_division, kernel_size=[4,n_rows])\n",
    "    \n",
    "    train_data = Dataset_2d(train, labels_onehot)\n",
    "    valid_data = Dataset_2d(val, labels_onehot)\n",
    "    \n",
    "    train_loader = torch.utils.data.DataLoader(train_data,batch_size=batch_size, shuffle=True)\n",
    "    valid_loader = torch.utils.data.DataLoader(valid_data,batch_size=batch_size)\n",
    "\n",
    "    opt = Adam(model.parameters(), lr=lr)\n",
    "    loss_fn = CrossEntropyLoss()\n",
    "    \n",
    "    \n",
    "    \n",
    "    model.to(device)\n",
    "    \n",
    "    best_val = np.inf\n",
    "    \n",
    "    loss_train = np.array([])\n",
    "    loss_train_epoch = []\n",
    "    loss_val_epoch = []\n",
    "    \n",
    "    for epoch in range(epochs):      \n",
    "        loss_avg = 0\n",
    "        loss_avg_val = 0\n",
    "        n_loss = 0\n",
    "        n_loss_val = 0\n",
    "        \n",
    "        model.train()\n",
    "        print(f\"Epoch: {epoch+1}\")\n",
    "        iterator = tqdm(train_loader)\n",
    "        for batch_x, batch_y in (iterator):\n",
    "            \n",
    "            batch_x = batch_x.to(device)\n",
    "            batch_y = batch_y.to(device)\n",
    "            \n",
    "            batch_x = batch_x.reshape(1, *batch_x.shape).permute(1,0,2,3)\n",
    "            \n",
    "            y_pred = 0\n",
    "            for j in range(max([num_divisions*2-3,1])):\n",
    "                batch_x_j = batch_x[:,:,int(n_columns_division*j/2):int(n_columns_division*(j+2)/2),:]  ## 50% of overlap between pieces of data\n",
    "\n",
    "                y_pred_j = model(batch_x_j)\n",
    "                loss = loss_fn(y_pred_j,batch_y)\n",
    "\n",
    "                n_loss = n_loss+1\n",
    "                loss_avg = loss_avg + loss.detach().cpu().numpy()\n",
    "    \n",
    "                opt.zero_grad()\n",
    "                loss.backward()\n",
    "                opt.step()\n",
    "                iterator.set_description(f\"Train loss: {loss.detach().cpu().numpy()}\")\n",
    "                \n",
    "\n",
    "        model.eval()\n",
    "        with torch.no_grad():\n",
    "\n",
    "            predictions = []\n",
    "            true = []\n",
    "            for batch_x, batch_y in tqdm(valid_loader):\n",
    "                batch_x = batch_x.to(device)\n",
    "                batch_y = batch_y.to(device)\n",
    "    \n",
    "                batch_x = batch_x.reshape(1, *batch_x.shape).permute(1,0,2,3)\n",
    "                \n",
    "    \n",
    "                y_pred = 0\n",
    "                for j in range(max([num_divisions*2-3,1])):\n",
    "                    \n",
    "                    batch_x_j = batch_x[:,:,int(n_columns_division*j/2):int(n_columns_division*(j+2)/2),:]  ## 50% of overlap between pieces of data\n",
    "                    \n",
    "                    y_pred_j = model(batch_x_j)\n",
    "                    y_pred = y_pred + y_pred_j/max([num_divisions*2-3,1])\n",
    "                    \n",
    "                    loss_avg_val = loss_avg_val + loss_fn(y_pred_j, batch_y).detach().cpu().numpy()\n",
    "                    n_loss_val = n_loss_val + 1\n",
    "                \n",
    "                predictions.append(y_pred)\n",
    "                true.append(batch_y)\n",
    "            predictions = torch.cat(predictions, axis=0)\n",
    "            true = torch.cat(true, axis=0)\n",
    "            val_loss = loss_fn(predictions, true)\n",
    "    \n",
    "            index = torch.argmax(predictions,axis=1).detach().cpu().numpy()\n",
    "            zeros = np.zeros(predictions.shape)\n",
    "            zeros[np.arange(index.shape[0]), index]=1\n",
    "            \n",
    "            val_acc = np.sum(np.equal(np.sum(np.equal(zeros,true.detach().cpu().numpy()).astype(int),axis=1),number_genre).astype(int))/predictions.shape[0]\n",
    "                \n",
    "            print(f\"loss: {val_loss}, accuracy: {val_acc}\")\n",
    "        loss_val_epoch.append(loss_avg_val/n_loss_val)\n",
    "        loss_train_epoch.append(loss_avg/n_loss)\n",
    "        \n",
    "        if val_loss < best_val:\n",
    "            print(\"Saved Model\")\n",
    "            torch.save(model.state_dict(), model_saving_name)\n",
    "            best_val = val_loss\n",
    "    plt.plot(np.arange(1,epoch+2),loss_train_epoch,label='Training Loss')\n",
    "    plt.plot(np.arange(1,epoch+2),loss_val_epoch,label='Validation Loss (\"segment-wise\")')\n",
    "    plt.legend()\n",
    "\n",
    "\n",
    "else:\n",
    "    None"
   ]
  },
  {
   "cell_type": "markdown",
   "id": "1abd4fe7-c49a-49fa-860c-3c91570adfc7",
   "metadata": {},
   "source": [
    "#### Both"
   ]
  },
  {
   "cell_type": "code",
   "execution_count": 17,
   "id": "c6aded63-b616-4e75-ad20-9c0fa0fda2da",
   "metadata": {},
   "outputs": [
    {
     "name": "stdout",
     "output_type": "stream",
     "text": [
      "Epoch: 1\n"
     ]
    },
    {
     "name": "stderr",
     "output_type": "stream",
     "text": [
      "Train loss: 1.3987348079681396:   7%|███▌                                               | 9/128 [01:14<16:53,  8.52s/it][src/libmpg123/layer3.c:INT123_do_layer3():1841] error: dequantization failed!\n",
      "Train loss: 1.2879455089569092:  55%|███████████████████████████▋                      | 71/128 [15:59<17:32, 18.46s/it][src/libmpg123/layer3.c:INT123_do_layer3():1801] error: dequantization failed!\n",
      "Train loss: 1.3654448986053467:  62%|███████████████████████████████▎                  | 80/128 [20:30<33:32, 41.92s/it][src/libmpg123/layer3.c:INT123_do_layer3():1801] error: dequantization failed!\n",
      "Train loss: 1.2963497638702393:  66%|████████████████████████████████▊                 | 84/128 [21:15<13:25, 18.30s/it][src/libmpg123/layer3.c:INT123_do_layer3():1771] error: part2_3_length (3360) too large for available bit count (3240)\n",
      "[src/libmpg123/layer3.c:INT123_do_layer3():1771] error: part2_3_length (3328) too large for available bit count (3240)\n",
      "Train loss: 1.278822660446167: 100%|██████████████████████████████████████████████████| 128/128 [30:30<00:00, 14.30s/it]\n",
      "100%|███████████████████████████████████████████████████████████████████████████████████| 16/16 [02:16<00:00,  8.56s/it]\n"
     ]
    },
    {
     "name": "stdout",
     "output_type": "stream",
     "text": [
      "loss: 1.5180672407150269, accuracy: 0.46875\n",
      "Saved Model\n",
      "Epoch: 2\n"
     ]
    },
    {
     "name": "stderr",
     "output_type": "stream",
     "text": [
      "Train loss: 1.3055742979049683:  41%|████████████████████▎                             | 52/128 [08:21<11:34,  9.14s/it][src/libmpg123/layer3.c:INT123_do_layer3():1841] error: dequantization failed!\n",
      "Train loss: 1.2405339479446411:  45%|██████████████████████▎                           | 57/128 [09:08<11:03,  9.35s/it][src/libmpg123/layer3.c:INT123_do_layer3():1771] error: part2_3_length (3328) too large for available bit count (3240)\n",
      "Train loss: 1.307918667793274:  45%|███████████████████████                            | 58/128 [09:22<12:24, 10.64s/it][src/libmpg123/layer3.c:INT123_do_layer3():1771] error: part2_3_length (3360) too large for available bit count (3240)\n",
      "Train loss: 1.219225287437439:  79%|███████████████████████████████████████▍          | 101/128 [16:30<04:13,  9.40s/it][src/libmpg123/layer3.c:INT123_do_layer3():1801] error: dequantization failed!\n",
      "Train loss: 1.2145391702651978:  84%|████████████████████████████████████████▉        | 107/128 [17:26<03:09,  9.03s/it][src/libmpg123/layer3.c:INT123_do_layer3():1801] error: dequantization failed!\n",
      "Train loss: 1.5067636966705322: 100%|█████████████████████████████████████████████████| 128/128 [21:24<00:00, 10.04s/it]\n",
      "100%|███████████████████████████████████████████████████████████████████████████████████| 16/16 [02:06<00:00,  7.90s/it]\n"
     ]
    },
    {
     "name": "stdout",
     "output_type": "stream",
     "text": [
      "loss: 1.5542808771133423, accuracy: 0.4525\n",
      "Epoch: 3\n"
     ]
    },
    {
     "name": "stderr",
     "output_type": "stream",
     "text": [
      "Train loss: 1.0164968967437744:  21%|██████████▌                                       | 27/128 [04:48<15:23,  9.14s/it][src/libmpg123/layer3.c:INT123_do_layer3():1771] error: part2_3_length (3360) too large for available bit count (3240)\n",
      "Train loss: 0.9792197942733765:  45%|██████████████████████▋                           | 58/128 [09:32<10:27,  8.97s/it][src/libmpg123/layer3.c:INT123_do_layer3():1801] error: dequantization failed!\n",
      "Train loss: 1.06291663646698:  52%|██████████████████████████▊                         | 66/128 [10:49<08:59,  8.70s/it][src/libmpg123/layer3.c:INT123_do_layer3():1801] error: dequantization failed!\n",
      "Train loss: 1.1084208488464355:  62%|███████████████████████████████▎                  | 80/128 [13:06<07:27,  9.33s/it][src/libmpg123/layer3.c:INT123_do_layer3():1841] error: dequantization failed!\n",
      "Train loss: 1.3877356052398682:  66%|█████████████████████████████████▏                | 85/128 [13:51<06:22,  8.89s/it][src/libmpg123/layer3.c:INT123_do_layer3():1771] error: part2_3_length (3328) too large for available bit count (3240)\n",
      "Train loss: 1.2788852453231812: 100%|█████████████████████████████████████████████████| 128/128 [19:57<00:00,  9.35s/it]\n",
      "100%|███████████████████████████████████████████████████████████████████████████████████| 16/16 [01:57<00:00,  7.34s/it]\n"
     ]
    },
    {
     "name": "stdout",
     "output_type": "stream",
     "text": [
      "loss: 1.5127630233764648, accuracy: 0.46875\n",
      "Saved Model\n",
      "Epoch: 4\n"
     ]
    },
    {
     "name": "stderr",
     "output_type": "stream",
     "text": [
      "Train loss: 0.8831986784934998:  20%|██████████▏                                       | 26/128 [03:24<13:23,  7.87s/it][src/libmpg123/layer3.c:INT123_do_layer3():1771] error: part2_3_length (3360) too large for available bit count (3240)\n",
      "Train loss: 1.003764271736145:  45%|███████████████████████                            | 58/128 [07:45<10:00,  8.58s/it][src/libmpg123/layer3.c:INT123_do_layer3():1801] error: dequantization failed!\n",
      "Train loss: 0.9417845010757446:  49%|████████████████████████▌                         | 63/128 [08:29<09:27,  8.72s/it][src/libmpg123/layer3.c:INT123_do_layer3():1771] error: part2_3_length (3328) too large for available bit count (3240)\n",
      "Train loss: 1.109771728515625:  80%|███████████████████████████████████████▊          | 102/128 [14:08<03:30,  8.11s/it][src/libmpg123/layer3.c:INT123_do_layer3():1801] error: dequantization failed!\n",
      "Train loss: 1.018315076828003:  87%|███████████████████████████████████████████▎      | 111/128 [15:24<02:24,  8.50s/it][src/libmpg123/layer3.c:INT123_do_layer3():1841] error: dequantization failed!\n",
      "Train loss: 0.98268061876297: 100%|███████████████████████████████████████████████████| 128/128 [17:52<00:00,  8.38s/it]\n",
      "100%|███████████████████████████████████████████████████████████████████████████████████| 16/16 [01:52<00:00,  7.03s/it]\n"
     ]
    },
    {
     "name": "stdout",
     "output_type": "stream",
     "text": [
      "loss: 1.4462952613830566, accuracy: 0.52125\n",
      "Saved Model\n",
      "Epoch: 5\n"
     ]
    },
    {
     "name": "stderr",
     "output_type": "stream",
     "text": [
      "Train loss: 0.7920695543289185:  12%|█████▊                                            | 15/128 [02:06<15:12,  8.07s/it][src/libmpg123/layer3.c:INT123_do_layer3():1841] error: dequantization failed!\n",
      "Train loss: 1.1007760763168335:  30%|███████████████▏                                  | 39/128 [05:25<12:18,  8.30s/it][src/libmpg123/layer3.c:INT123_do_layer3():1801] error: dequantization failed!\n",
      "Train loss: 0.9507651925086975:  49%|████████████████████████▌                         | 63/128 [09:05<09:11,  8.49s/it][src/libmpg123/layer3.c:INT123_do_layer3():1771] error: part2_3_length (3360) too large for available bit count (3240)\n",
      "Train loss: 0.8540819883346558:  84%|█████████████████████████████████████████▎       | 108/128 [15:49<03:21, 10.09s/it][src/libmpg123/layer3.c:INT123_do_layer3():1771] error: part2_3_length (3328) too large for available bit count (3240)\n",
      "Train loss: 1.0405362844467163:  91%|████████████████████████████████████████████▍    | 116/128 [17:04<01:55,  9.62s/it][src/libmpg123/layer3.c:INT123_do_layer3():1801] error: dequantization failed!\n",
      "Train loss: 1.0467913150787354: 100%|█████████████████████████████████████████████████| 128/128 [18:57<00:00,  8.89s/it]\n",
      "100%|███████████████████████████████████████████████████████████████████████████████████| 16/16 [03:32<00:00, 13.31s/it]\n"
     ]
    },
    {
     "name": "stdout",
     "output_type": "stream",
     "text": [
      "loss: 1.4674230813980103, accuracy: 0.49875\n",
      "Epoch: 6\n"
     ]
    },
    {
     "name": "stderr",
     "output_type": "stream",
     "text": [
      "Train loss: 0.6576273441314697:  12%|██████▎                                           | 16/128 [02:43<21:10, 11.34s/it][src/libmpg123/layer3.c:INT123_do_layer3():1771] error: part2_3_length (3360) too large for available bit count (3240)\n",
      "Train loss: 0.8967636823654175:  18%|████████▉                                         | 23/128 [04:10<19:08, 10.94s/it][src/libmpg123/layer3.c:INT123_do_layer3():1771] error: part2_3_length (3328) too large for available bit count (3240)\n",
      "Train loss: 1.0613987445831299:  23%|███████████▎                                      | 29/128 [05:13<17:06, 10.36s/it][src/libmpg123/layer3.c:INT123_do_layer3():1841] error: dequantization failed!\n",
      "Train loss: 0.7560284733772278:  36%|█████████████████▉                                | 46/128 [07:56<12:40,  9.27s/it][src/libmpg123/layer3.c:INT123_do_layer3():1801] error: dequantization failed!\n",
      "Train loss: 0.8516413569450378:  99%|████████████████████████████████████████████████▌| 127/128 [21:00<00:08,  8.28s/it][src/libmpg123/layer3.c:INT123_do_layer3():1801] error: dequantization failed!\n",
      "Train loss: 0.9202449321746826: 100%|█████████████████████████████████████████████████| 128/128 [21:08<00:00,  9.91s/it]\n",
      "100%|███████████████████████████████████████████████████████████████████████████████████| 16/16 [02:19<00:00,  8.73s/it]\n"
     ]
    },
    {
     "name": "stdout",
     "output_type": "stream",
     "text": [
      "loss: 1.4630428552627563, accuracy: 0.5\n",
      "Epoch: 7\n"
     ]
    },
    {
     "name": "stderr",
     "output_type": "stream",
     "text": [
      "Train loss: 0.8392539620399475:   2%|█▏                                                 | 3/128 [00:27<18:52,  9.06s/it][src/libmpg123/layer3.c:INT123_do_layer3():1771] error: part2_3_length (3328) too large for available bit count (3240)\n",
      "Train loss: 1.0038466453552246:  10%|█████                                             | 13/128 [02:01<17:31,  9.14s/it][src/libmpg123/layer3.c:INT123_do_layer3():1801] error: dequantization failed!\n",
      "Train loss: 0.8684617280960083:  20%|█████████▊                                        | 25/128 [04:08<22:30, 13.11s/it][src/libmpg123/layer3.c:INT123_do_layer3():1801] error: dequantization failed!\n",
      "Train loss: 0.7356181740760803:  55%|███████████████████████████▎                      | 70/128 [13:05<09:20,  9.66s/it][src/libmpg123/layer3.c:INT123_do_layer3():1771] error: part2_3_length (3360) too large for available bit count (3240)\n",
      "Train loss: 0.9784448146820068:  74%|█████████████████████████████████████             | 95/128 [17:15<05:00,  9.12s/it][src/libmpg123/layer3.c:INT123_do_layer3():1841] error: dequantization failed!\n",
      "Train loss: 0.7648196220397949: 100%|█████████████████████████████████████████████████| 128/128 [22:30<00:00, 10.55s/it]\n",
      "100%|███████████████████████████████████████████████████████████████████████████████████| 16/16 [02:12<00:00,  8.30s/it]\n"
     ]
    },
    {
     "name": "stdout",
     "output_type": "stream",
     "text": [
      "loss: 1.556207299232483, accuracy: 0.51375\n",
      "Epoch: 8\n"
     ]
    },
    {
     "name": "stderr",
     "output_type": "stream",
     "text": [
      "Train loss: 0.6831521391868591:  43%|█████████████████████▍                            | 55/128 [08:05<11:05,  9.12s/it][src/libmpg123/layer3.c:INT123_do_layer3():1801] error: dequantization failed!\n",
      "Train loss: 0.6038593649864197:  62%|██████████████████████████████▊                   | 79/128 [12:05<07:10,  8.78s/it][src/libmpg123/layer3.c:INT123_do_layer3():1771] error: part2_3_length (3360) too large for available bit count (3240)\n",
      "Train loss: 0.6239266991615295:  65%|████████████████████████████████▍                 | 83/128 [12:43<07:01,  9.36s/it][src/libmpg123/layer3.c:INT123_do_layer3():1801] error: dequantization failed!\n",
      "Train loss: 0.5640795230865479:  70%|██████████████████████████████████▊               | 89/128 [13:42<06:19,  9.73s/it][src/libmpg123/layer3.c:INT123_do_layer3():1841] error: dequantization failed!\n",
      "Train loss: 0.47709712386131287:  86%|█████████████████████████████████████████▎      | 110/128 [17:02<02:49,  9.44s/it][src/libmpg123/layer3.c:INT123_do_layer3():1771] error: part2_3_length (3328) too large for available bit count (3240)\n",
      "Train loss: 0.6129588484764099: 100%|█████████████████████████████████████████████████| 128/128 [19:52<00:00,  9.32s/it]\n",
      "100%|███████████████████████████████████████████████████████████████████████████████████| 16/16 [02:10<00:00,  8.13s/it]\n"
     ]
    },
    {
     "name": "stdout",
     "output_type": "stream",
     "text": [
      "loss: 1.5870018005371094, accuracy: 0.505\n",
      "Epoch: 9\n"
     ]
    },
    {
     "name": "stderr",
     "output_type": "stream",
     "text": [
      "Train loss: 0.5312548875808716:  11%|█████▍                                            | 14/128 [02:07<17:13,  9.06s/it][src/libmpg123/layer3.c:INT123_do_layer3():1841] error: dequantization failed!\n",
      "Train loss: 0.5459818840026855:  22%|██████████▉                                       | 28/128 [04:21<15:32,  9.33s/it][src/libmpg123/layer3.c:INT123_do_layer3():1801] error: dequantization failed!\n",
      "Train loss: 0.3900283873081207:  39%|███████████████████▌                              | 50/128 [07:49<13:13, 10.17s/it][src/libmpg123/layer3.c:INT123_do_layer3():1801] error: dequantization failed!\n",
      "Train loss: 0.858734667301178:  55%|███████████████████████████▉                       | 70/128 [10:55<08:53,  9.19s/it][src/libmpg123/layer3.c:INT123_do_layer3():1771] error: part2_3_length (3328) too large for available bit count (3240)\n",
      "Train loss: 0.6832009553909302:  76%|█████████████████████████████████████▉            | 97/128 [15:15<04:44,  9.18s/it][src/libmpg123/layer3.c:INT123_do_layer3():1771] error: part2_3_length (3360) too large for available bit count (3240)\n",
      "Train loss: 0.6298818588256836: 100%|█████████████████████████████████████████████████| 128/128 [20:15<00:00,  9.49s/it]\n",
      "100%|███████████████████████████████████████████████████████████████████████████████████| 16/16 [02:10<00:00,  8.14s/it]\n"
     ]
    },
    {
     "name": "stdout",
     "output_type": "stream",
     "text": [
      "loss: 1.651961326599121, accuracy: 0.50125\n",
      "Epoch: 10\n"
     ]
    },
    {
     "name": "stderr",
     "output_type": "stream",
     "text": [
      "Train loss: 0.5093519687652588:  21%|██████████▌                                       | 27/128 [03:57<14:35,  8.67s/it][src/libmpg123/layer3.c:INT123_do_layer3():1841] error: dequantization failed!\n",
      "Train loss: 0.4173365831375122:  28%|██████████████                                    | 36/128 [05:21<15:03,  9.82s/it][src/libmpg123/layer3.c:INT123_do_layer3():1771] error: part2_3_length (3328) too large for available bit count (3240)\n",
      "Train loss: 0.524900496006012:  30%|███████████████▌                                   | 39/128 [05:51<14:26,  9.74s/it][src/libmpg123/layer3.c:INT123_do_layer3():1801] error: dequantization failed!\n",
      "Train loss: 0.3436858654022217:  48%|███████████████████████▊                          | 61/128 [09:13<10:56,  9.79s/it][src/libmpg123/layer3.c:INT123_do_layer3():1771] error: part2_3_length (3360) too large for available bit count (3240)\n",
      "Train loss: 0.3727826476097107:  92%|█████████████████████████████████████████████▏   | 118/128 [19:00<02:20, 14.07s/it][src/libmpg123/layer3.c:INT123_do_layer3():1801] error: dequantization failed!\n",
      "Train loss: 0.4426802098751068: 100%|█████████████████████████████████████████████████| 128/128 [21:06<00:00,  9.90s/it]\n",
      "100%|███████████████████████████████████████████████████████████████████████████████████| 16/16 [02:19<00:00,  8.70s/it]\n"
     ]
    },
    {
     "name": "stdout",
     "output_type": "stream",
     "text": [
      "loss: 1.5868428945541382, accuracy: 0.4825\n",
      "Epoch: 11\n"
     ]
    },
    {
     "name": "stderr",
     "output_type": "stream",
     "text": [
      "Train loss: 0.4996599555015564:  46%|███████████████████████                           | 59/128 [09:21<10:20,  8.99s/it][src/libmpg123/layer3.c:INT123_do_layer3():1841] error: dequantization failed!\n",
      "Train loss: 0.5310693383216858:  52%|█████████████████████████▊                        | 66/128 [10:31<09:53,  9.57s/it][src/libmpg123/layer3.c:INT123_do_layer3():1771] error: part2_3_length (3360) too large for available bit count (3240)\n",
      "Train loss: 0.45894545316696167:  53%|██████████████████████████                       | 68/128 [10:52<10:06, 10.11s/it][src/libmpg123/layer3.c:INT123_do_layer3():1771] error: part2_3_length (3328) too large for available bit count (3240)\n",
      "Train loss: 0.4507814049720764:  73%|████████████████████████████████████▎             | 93/128 [15:03<05:22,  9.21s/it][src/libmpg123/layer3.c:INT123_do_layer3():1801] error: dequantization failed!\n",
      "Train loss: 0.602437436580658:  83%|█████████████████████████████████████████▍        | 106/128 [17:18<03:46, 10.31s/it][src/libmpg123/layer3.c:INT123_do_layer3():1801] error: dequantization failed!\n",
      "Train loss: 0.7134933471679688: 100%|█████████████████████████████████████████████████| 128/128 [20:44<00:00,  9.72s/it]\n",
      "100%|███████████████████████████████████████████████████████████████████████████████████| 16/16 [02:04<00:00,  7.76s/it]\n"
     ]
    },
    {
     "name": "stdout",
     "output_type": "stream",
     "text": [
      "loss: 1.6569173336029053, accuracy: 0.5\n",
      "Epoch: 12\n"
     ]
    },
    {
     "name": "stderr",
     "output_type": "stream",
     "text": [
      "Train loss: 0.3215249180793762:   2%|▊                                                  | 2/128 [00:16<16:41,  7.95s/it][src/libmpg123/layer3.c:INT123_do_layer3():1771] error: part2_3_length (3360) too large for available bit count (3240)\n",
      "Train loss: 0.19021235406398773:  20%|█████████▉                                       | 26/128 [03:55<15:17,  8.99s/it][src/libmpg123/layer3.c:INT123_do_layer3():1801] error: dequantization failed!\n",
      "Train loss: 0.3517390489578247:  36%|█████████████████▉                                | 46/128 [06:58<12:22,  9.05s/it][src/libmpg123/layer3.c:INT123_do_layer3():1801] error: dequantization failed!\n",
      "Train loss: 0.29036280512809753:  37%|█████████████████▉                               | 47/128 [07:08<12:34,  9.32s/it][src/libmpg123/layer3.c:INT123_do_layer3():1841] error: dequantization failed!\n",
      "Train loss: 0.418807715177536:  71%|████████████████████████████████████▎              | 91/128 [14:07<06:14, 10.12s/it][src/libmpg123/layer3.c:INT123_do_layer3():1771] error: part2_3_length (3328) too large for available bit count (3240)\n",
      "Train loss: 0.4076405465602875: 100%|█████████████████████████████████████████████████| 128/128 [19:50<00:00,  9.30s/it]\n",
      "100%|███████████████████████████████████████████████████████████████████████████████████| 16/16 [02:05<00:00,  7.85s/it]\n"
     ]
    },
    {
     "name": "stdout",
     "output_type": "stream",
     "text": [
      "loss: 1.702966570854187, accuracy: 0.43875\n",
      "Epoch: 13\n"
     ]
    },
    {
     "name": "stderr",
     "output_type": "stream",
     "text": [
      "Train loss: 0.2722472846508026:  20%|██████████▏                                       | 26/128 [03:59<14:48,  8.71s/it][src/libmpg123/layer3.c:INT123_do_layer3():1801] error: dequantization failed!\n",
      "Train loss: 0.4105435013771057:  27%|█████████████▋                                    | 35/128 [05:21<14:15,  9.20s/it][src/libmpg123/layer3.c:INT123_do_layer3():1841] error: dequantization failed!\n",
      "Train loss: 0.4593428075313568:  46%|███████████████████████                           | 59/128 [09:10<10:10,  8.85s/it][src/libmpg123/layer3.c:INT123_do_layer3():1801] error: dequantization failed!\n",
      "Train loss: 0.42399367690086365:  62%|██████████████████████████████▋                  | 80/128 [12:24<07:35,  9.49s/it][src/libmpg123/layer3.c:INT123_do_layer3():1771] error: part2_3_length (3360) too large for available bit count (3240)\n",
      "Train loss: 0.2102770209312439:  67%|█████████████████████████████████▌                | 86/128 [13:17<06:14,  8.92s/it][src/libmpg123/layer3.c:INT123_do_layer3():1771] error: part2_3_length (3328) too large for available bit count (3240)\n",
      "Train loss: 0.1594190001487732: 100%|█████████████████████████████████████████████████| 128/128 [20:13<00:00,  9.48s/it]\n",
      "100%|███████████████████████████████████████████████████████████████████████████████████| 16/16 [02:12<00:00,  8.29s/it]\n"
     ]
    },
    {
     "name": "stdout",
     "output_type": "stream",
     "text": [
      "loss: 1.9353164434432983, accuracy: 0.4575\n",
      "Epoch: 14\n"
     ]
    },
    {
     "name": "stderr",
     "output_type": "stream",
     "text": [
      "Train loss: 0.18277910351753235:   6%|███▏                                              | 8/128 [01:16<19:24,  9.70s/it][src/libmpg123/layer3.c:INT123_do_layer3():1801] error: dequantization failed!\n",
      "Train loss: 0.24078205227851868:  18%|████████▊                                        | 23/128 [04:07<20:38, 11.80s/it][src/libmpg123/layer3.c:INT123_do_layer3():1801] error: dequantization failed!\n",
      "Train loss: 0.22713151574134827:  35%|█████████████████▏                               | 45/128 [07:39<12:26,  9.00s/it][src/libmpg123/layer3.c:INT123_do_layer3():1771] error: part2_3_length (3328) too large for available bit count (3240)\n",
      "Train loss: 0.2954351603984833:  41%|████████████████████▎                             | 52/128 [08:53<13:58, 11.03s/it][src/libmpg123/layer3.c:INT123_do_layer3():1771] error: part2_3_length (3360) too large for available bit count (3240)\n",
      "Train loss: 0.23717521131038666:  41%|████████████████████▎                            | 53/128 [09:02<12:55, 10.34s/it][src/libmpg123/layer3.c:INT123_do_layer3():1841] error: dequantization failed!\n",
      "Train loss: 0.2587701082229614: 100%|█████████████████████████████████████████████████| 128/128 [21:29<00:00, 10.07s/it]\n",
      "100%|███████████████████████████████████████████████████████████████████████████████████| 16/16 [02:11<00:00,  8.22s/it]\n"
     ]
    },
    {
     "name": "stdout",
     "output_type": "stream",
     "text": [
      "loss: 1.79318368434906, accuracy: 0.47375\n",
      "Epoch: 15\n"
     ]
    },
    {
     "name": "stderr",
     "output_type": "stream",
     "text": [
      "Train loss: 0.09828455001115799:  19%|█████████▏                                       | 24/128 [03:47<15:21,  8.86s/it][src/libmpg123/layer3.c:INT123_do_layer3():1771] error: part2_3_length (3360) too large for available bit count (3240)\n",
      "Train loss: 0.2693048417568207:  34%|████████████████▊                                 | 43/128 [07:02<16:17, 11.50s/it][src/libmpg123/layer3.c:INT123_do_layer3():1771] error: part2_3_length (3328) too large for available bit count (3240)\n",
      "Train loss: 0.12689664959907532:  36%|█████████████████▌                               | 46/128 [07:37<15:49, 11.58s/it][src/libmpg123/layer3.c:INT123_do_layer3():1801] error: dequantization failed!\n",
      "Train loss: 0.2070230394601822:  70%|██████████████████████████████████▊               | 89/128 [14:34<05:50,  8.98s/it][src/libmpg123/layer3.c:INT123_do_layer3():1841] error: dequantization failed!\n",
      "Train loss: 0.32208526134490967:  96%|██████████████████████████████████████████████▏ | 123/128 [22:19<01:25, 17.03s/it][src/libmpg123/layer3.c:INT123_do_layer3():1801] error: dequantization failed!\n",
      "Train loss: 0.17018191516399384: 100%|████████████████████████████████████████████████| 128/128 [23:17<00:00, 10.91s/it]\n",
      "100%|███████████████████████████████████████████████████████████████████████████████████| 16/16 [02:22<00:00,  8.89s/it]\n"
     ]
    },
    {
     "name": "stdout",
     "output_type": "stream",
     "text": [
      "loss: 1.9234191179275513, accuracy: 0.455\n"
     ]
    },
    {
     "data": {
      "image/png": "[encoded data removed]",
      "text/plain": [
       "<Figure size 640x480 with 1 Axes>"
      ]
     },
     "metadata": {},
     "output_type": "display_data"
    }
   ],
   "source": [
    "if model_dim == 'both':\n",
    "    model = NetworkBoth(batch_size, n_columns=n_columns_division, kernel_size=[4,n_rows])\n",
    "                \n",
    "    train_data = Dataset_both(train, labels_onehot)\n",
    "    valid_data = Dataset_both(val, labels_onehot)\n",
    "    \n",
    "    train_loader = torch.utils.data.DataLoader(train_data,batch_size=batch_size,shuffle=True)\n",
    "    valid_loader = torch.utils.data.DataLoader(valid_data,batch_size=batch_size)\n",
    "\n",
    "    opt = Adam(model.parameters(),lr=lr)\n",
    "    loss_fn = nn.CrossEntropyLoss()\n",
    "  \n",
    "    model.to(device)\n",
    "    \n",
    "    best_val = np.inf\n",
    "    \n",
    "    loss_train = np.array([])\n",
    "    loss_train_epoch = []\n",
    "    loss_val_epoch = []\n",
    "    \n",
    "    for epoch in range(epochs):\n",
    "        loss_avg = 0\n",
    "        loss_avg_val = 0\n",
    "        n_loss = 0\n",
    "        n_loss_val = 0\n",
    "        model.train()\n",
    "        print(f\"Epoch: {epoch+1}\")\n",
    "        iterator = tqdm(train_loader)\n",
    "        for batch_x1, batch_x2, batch_y in (iterator):\n",
    "            \n",
    "            batch_x1 = batch_x1.to(device)\n",
    "            batch_x2 = batch_x2.to(device)\n",
    "            batch_y = batch_y.to(device)\n",
    "    \n",
    "            batch_x1 = batch_x1.reshape(1, *batch_x1.shape).permute(1,0,2,3)\n",
    "            batch_x2 = batch_x2.reshape(1, *batch_x2.shape).permute(1,0,2,3)\n",
    "            \n",
    "            y_pred = 0\n",
    "                \n",
    "            for j in range(max([num_divisions*2-3,1])):\n",
    "                batch_x_j1 = batch_x1[:,:,int(n_data_division*j/2):int(n_data_division*(j+2)/2),:]  ## 50% of overlap between pieces of data\n",
    "                batch_x_j2 = batch_x2[:,:,int(n_columns_division*j/2):int(n_columns_division*(j+2)/2),:]\n",
    "                \n",
    "                y_pred_j = model(batch_x_j1, batch_x_j2)\n",
    "        \n",
    "                loss = loss_fn(y_pred_j,batch_y)\n",
    "\n",
    "                n_loss = n_loss+1\n",
    "                loss_avg = loss_avg + loss.detach().cpu().numpy()\n",
    "        \n",
    "                opt.zero_grad()\n",
    "                loss.backward()\n",
    "                opt.step()\n",
    "                iterator.set_description(f\"Train loss: {loss.detach().cpu().numpy()}\")\n",
    "                \n",
    "    \n",
    "        model.eval()\n",
    "        with torch.no_grad():\n",
    "            predictions = []\n",
    "            true = []\n",
    "            for batch_x1, batch_x2, batch_y in (tqdm(valid_loader)):\n",
    "                \n",
    "                batch_x1 = batch_x1.to(device)\n",
    "                batch_x2 = batch_x2.to(device)\n",
    "                batch_y = batch_y.to(device)\n",
    "                \n",
    "            \n",
    "                batch_x1 = batch_x1.reshape(1, *batch_x1.shape).permute(1,0,2,3)\n",
    "                batch_x2 = batch_x2.reshape(1, *batch_x2.shape).permute(1,0,2,3)\n",
    "                \n",
    "                y_pred = 0\n",
    "                \n",
    "                for j in range(max([num_divisions*2-3,1])):\n",
    "                    batch_x_j1 = batch_x1[:,:,int(n_data_division*j/2):int(n_data_division*(j+2)/2),:]  ## 50% of overlap between pieces of data\n",
    "                    batch_x_j2 = batch_x2[:,:,int(n_columns_division*j/2):int(n_columns_division*(j+2)/2),:]\n",
    "                    \n",
    "                    y_pred_j = model(batch_x_j1, batch_x_j2)\n",
    "                    y_pred = y_pred + y_pred_j/max([num_divisions*2-3,1])\n",
    "\n",
    "                    loss_avg_val = loss_avg_val + loss_fn(y_pred_j, batch_y).detach().cpu().numpy()\n",
    "                    n_loss_val = n_loss_val + 1\n",
    "    \n",
    "                predictions.append(y_pred)\n",
    "                true.append(batch_y)\n",
    "                    \n",
    "            predictions = torch.cat(predictions, axis=0)\n",
    "            true = torch.cat(true, axis=0)\n",
    "            val_loss = loss_fn(predictions,true)\n",
    "    \n",
    "            index = torch.argmax(predictions,axis=1).detach().cpu().numpy()\n",
    "            zeros = np.zeros(predictions.shape)\n",
    "            zeros[np.arange(index.shape[0]), index]=1\n",
    "            \n",
    "            val_acc = np.sum(np.equal(np.sum(np.equal(zeros,true.detach().cpu().numpy()).astype(int),axis=1),number_genre).astype(int))/predictions.shape[0]\n",
    "                \n",
    "            print(f\"loss: {val_loss}, accuracy: {val_acc}\")\n",
    "\n",
    "        loss_val_epoch.append(loss_avg_val/n_loss_val)\n",
    "        loss_train_epoch.append(loss_avg/n_loss)\n",
    "        \n",
    "        if val_loss < best_val:\n",
    "            print(\"Saved Model\")\n",
    "            torch.save(model.state_dict(), model_saving_name)\n",
    "            best_val = val_loss\n",
    "    plt.plot(np.arange(1,epoch+2),loss_train_epoch,label='Training Loss')\n",
    "    plt.plot(np.arange(1,epoch+2),loss_val_epoch,label='Validation Loss (\"segment-wise\")')\n",
    "    plt.legend()\n",
    "\n",
    "else:\n",
    "    None"
   ]
  },
  {
   "cell_type": "markdown",
   "id": "7522724e-da80-4891-b1ad-59e6e079eae3",
   "metadata": {},
   "source": [
    "### TEST"
   ]
  },
  {
   "cell_type": "code",
   "execution_count": 18,
   "id": "54350ab8-5fec-4261-9669-69f14d551ab9",
   "metadata": {},
   "outputs": [],
   "source": [
    "model_name = 'model.pt' #Name of the model we want to test"
   ]
  },
  {
   "cell_type": "markdown",
   "id": "4e341f0a-8897-4c60-8aed-f782fcd3c6bc",
   "metadata": {
    "jp-MarkdownHeadingCollapsed": true
   },
   "source": [
    "#### 1d"
   ]
  },
  {
   "cell_type": "code",
   "execution_count": 19,
   "id": "2f34b580-5f7b-4979-8e86-47ea00c725c9",
   "metadata": {},
   "outputs": [],
   "source": [
    "if model_dim == '1d':\n",
    "    model = Network1d(batch_size, n_columns=n_columns_division, kernel_size=[4,n_rows])\n",
    "                                                                                 \n",
    "    test_data = Dataset_1d(test, labels_onehot)\n",
    "    test_loader = torch.utils.data.DataLoader(test_data,batch_size=batch_size)\n",
    "    \n",
    "    model.load_state_dict(torch.load(model_name))\n",
    "    model.to(device)\n",
    "    \n",
    "    loss_fn = CrossEntropyLoss()\n",
    "    \n",
    "    model.eval()\n",
    "    with torch.no_grad():\n",
    "        predictions = []\n",
    "        true = []\n",
    "        for batch_x, batch_y in tqdm(test_loader):\n",
    "            batch_x = batch_x.to(device)\n",
    "            batch_y = batch_y.to(device)\n",
    "\n",
    "            batch_x = batch_x.reshape(1, *batch_x.shape).permute(1,0,2,3)\n",
    "            \n",
    "\n",
    "            y_pred = 0\n",
    "            for j in range(max([num_divisions*2-3,1])):\n",
    "                \n",
    "                batch_x_j = batch_x[:,:,int(n_data_division*j/2):int(n_data_division*(j+2)/2),:]  ## 50% of overlap between pieces of data\n",
    "                \n",
    "                y_pred_j = model(batch_x_j)\n",
    "                y_pred = y_pred + y_pred_j/max([num_divisions*2-3,1])\n",
    "            \n",
    "            predictions.append(y_pred)\n",
    "            true.append(batch_y)\n",
    "        predictions = torch.cat(predictions, axis=0)\n",
    "        true = torch.cat(true, axis=0)\n",
    "        val_loss = loss_fn(predictions, true)\n",
    "\n",
    "        index = torch.argmax(predictions,axis=1).detach().cpu().numpy()\n",
    "        zeros = np.zeros(predictions.shape)\n",
    "        zeros[np.arange(index.shape[0]), index]=1\n",
    "        \n",
    "        val_acc = np.sum(np.equal(np.sum(np.equal(zeros,true.detach().cpu().numpy()).astype(int),axis=1),number_genre).astype(int))/predictions.shape[0]\n",
    "            \n",
    "        print(f\"loss: {val_loss}, accuracy: {val_acc}\")"
   ]
  },
  {
   "cell_type": "markdown",
   "id": "9d12216f-dfc9-46bd-a18b-35de90f00309",
   "metadata": {},
   "source": [
    "#### 2d"
   ]
  },
  {
   "cell_type": "code",
   "execution_count": 20,
   "id": "ce0170dc",
   "metadata": {},
   "outputs": [],
   "source": [
    "if model_dim == '2d':\n",
    "    model = Network2d(batch_size, n_columns=n_columns_division, kernel_size=[4,n_rows])\n",
    "                                                                                 \n",
    "    test_data = Dataset_2d(test, labels_onehot)\n",
    "    test_loader = torch.utils.data.DataLoader(test_data,batch_size=batch_size)\n",
    "    \n",
    "    model.load_state_dict(torch.load(model_name))\n",
    "    model.to(device)\n",
    "    \n",
    "    loss_fn = CrossEntropyLoss()\n",
    "    \n",
    "    model.eval()\n",
    "    with torch.no_grad():\n",
    "        predictions = []\n",
    "        true = []\n",
    "        for batch_x, batch_y in tqdm(test_loader):\n",
    "            batch_x = batch_x.to(device)\n",
    "            batch_y = batch_y.to(device)\n",
    "\n",
    "            batch_x = batch_x.reshape(1, *batch_x.shape).permute(1,0,2,3)\n",
    "            \n",
    "\n",
    "            y_pred = 0\n",
    "            for j in range(max([num_divisions*2-3,1])):\n",
    "                \n",
    "                batch_x_j = batch_x[:,:,int(n_columns_division*j/2):int(n_columns_division*(j+2)/2),:]  ## 50% of overlap between pieces of data\n",
    "                \n",
    "                y_pred_j = model(batch_x_j)\n",
    "                y_pred = y_pred + y_pred_j/max([num_divisions*2-3,1])\n",
    "            \n",
    "            predictions.append(y_pred)\n",
    "            true.append(batch_y)\n",
    "        predictions = torch.cat(predictions, axis=0)\n",
    "        true = torch.cat(true, axis=0)\n",
    "        val_loss = loss_fn(predictions, true)\n",
    "\n",
    "        index = torch.argmax(predictions,axis=1).detach().cpu().numpy()\n",
    "        zeros = np.zeros(predictions.shape)\n",
    "        zeros[np.arange(index.shape[0]), index]=1\n",
    "        \n",
    "        val_acc = np.sum(np.equal(np.sum(np.equal(zeros,true.detach().cpu().numpy()).astype(int),axis=1),number_genre).astype(int))/predictions.shape[0]\n",
    "            \n",
    "        print(f\"loss: {val_loss}, accuracy: {val_acc}\")"
   ]
  },
  {
   "cell_type": "markdown",
   "id": "623b5a32-7de0-439c-979f-e0065a96416c",
   "metadata": {},
   "source": [
    "#### Both"
   ]
  },
  {
   "cell_type": "code",
   "execution_count": 21,
   "id": "560f688a",
   "metadata": {},
   "outputs": [
    {
     "name": "stderr",
     "output_type": "stream",
     "text": [
      "100%|███████████████████████████████████████████████████████████████████████████████████| 16/16 [01:55<00:00,  7.23s/it]\n"
     ]
    },
    {
     "name": "stdout",
     "output_type": "stream",
     "text": [
      "loss: 1.7352166175842285, accuracy: 0.41\n"
     ]
    }
   ],
   "source": [
    "if model_dim == 'both':\n",
    "    model = NetworkBoth(batch_size, n_columns=n_columns_division, kernel_size=[4,n_rows])\n",
    "                                                                                 \n",
    "    test_data = Dataset_both(test, labels_onehot)\n",
    "    test_loader = torch.utils.data.DataLoader(test_data,batch_size=batch_size)\n",
    "    \n",
    "    model.load_state_dict(torch.load(model_name))\n",
    "    model.to(device)\n",
    "    \n",
    "    loss_fn = CrossEntropyLoss()\n",
    "    \n",
    "    model.eval()\n",
    "    with torch.no_grad():\n",
    "        predictions = []\n",
    "        true = []\n",
    "        for batch_x1, batch_x2, batch_y in (tqdm(test_loader)):\n",
    "            \n",
    "            batch_x1 = batch_x1.to(device)\n",
    "            batch_x2 = batch_x2.to(device)\n",
    "            batch_y = batch_y.to(device)\n",
    "        \n",
    "            batch_x1 = batch_x1.reshape(1, *batch_x1.shape).permute(1,0,2,3)\n",
    "            batch_x2 = batch_x2.reshape(1, *batch_x2.shape).permute(1,0,2,3)\n",
    "            \n",
    "            y_pred = 0\n",
    "            \n",
    "            for j in range(num_divisions*2-3):\n",
    "                batch_x_j1 = batch_x1[:,:,int(n_data_division*j/2):int(n_data_division*(j+2)/2),:]  ## 50% of overlap between pieces of data\n",
    "                batch_x_j2 = batch_x2[:,:,int(n_columns_division*j/2):int(n_columns_division*(j+2)/2),:]\n",
    "                \n",
    "                y_pred_j = model(batch_x_j1, batch_x_j2)\n",
    "                y_pred = y_pred + y_pred_j/max([num_divisions*2-3,1])\n",
    "\n",
    "            predictions.append(y_pred)\n",
    "            true.append(batch_y)\n",
    "                \n",
    "        predictions = torch.cat(predictions, axis=0)\n",
    "        true = torch.cat(true, axis=0)\n",
    "        val_loss = loss_fn(predictions, true)\n",
    "\n",
    "        index = torch.argmax(predictions,axis=1).detach().cpu().numpy()\n",
    "        zeros = np.zeros(predictions.shape)\n",
    "        zeros[np.arange(index.shape[0]), index]=1\n",
    "        \n",
    "        val_acc = np.sum(np.equal(np.sum(np.equal(zeros,true.detach().cpu().numpy()).astype(int),axis=1),number_genre).astype(int))/predictions.shape[0]\n",
    "            \n",
    "        print(f\"loss: {val_loss}, accuracy: {val_acc}\")\n",
    "else:\n",
    "    None\n",
    "    "
   ]
  },
  {
   "cell_type": "code",
   "execution_count": null,
   "id": "fea2e142-ad51-459b-b5d3-832e118310d2",
   "metadata": {},
   "outputs": [],
   "source": []
  }
 ],
 "metadata": {
  "kernelspec": {
   "display_name": "Python 3 (ipykernel)",
   "language": "python",
   "name": "python3"
  },
  "language_info": {
   "codemirror_mode": {
    "name": "ipython",
    "version": 3
   },
   "file_extension": ".py",
   "mimetype": "text/x-python",
   "name": "python",
   "nbconvert_exporter": "python",
   "pygments_lexer": "ipython3",
   "version": "3.10.9"
  }
 },
 "nbformat": 4,
 "nbformat_minor": 5
}
